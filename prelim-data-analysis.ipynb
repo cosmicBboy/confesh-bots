{
 "metadata": {
  "name": "",
  "signature": "sha256:f369b94ad3d15b3f1609b5015b5ed5244d2c041dcb0bed7fb16d048599b71d93"
 },
 "nbformat": 3,
 "nbformat_minor": 0,
 "worksheets": [
  {
   "cells": [
    {
     "cell_type": "code",
     "collapsed": false,
     "input": [
      "import pandas as pd"
     ],
     "language": "python",
     "metadata": {},
     "outputs": [],
     "prompt_number": 1
    },
    {
     "cell_type": "code",
     "collapsed": false,
     "input": [
      "fp = \"./tmp/smith_comments.csv\"\n",
      "data = pd.read_csv(fp)"
     ],
     "language": "python",
     "metadata": {},
     "outputs": [],
     "prompt_number": 4
    },
    {
     "cell_type": "code",
     "collapsed": false,
     "input": [
      "data.head()"
     ],
     "language": "python",
     "metadata": {},
     "outputs": [
      {
       "html": [
        "<div style=\"max-width:1500px;overflow:auto;\">\n",
        "<table border=\"1\" class=\"dataframe\">\n",
        "  <thead>\n",
        "    <tr style=\"text-align: right;\">\n",
        "      <th></th>\n",
        "      <th>id</th>\n",
        "      <th>secret_id</th>\n",
        "      <th>comment</th>\n",
        "      <th>create_date</th>\n",
        "      <th>update_date</th>\n",
        "      <th>hide_date</th>\n",
        "      <th>sender</th>\n",
        "      <th>receiver</th>\n",
        "    </tr>\n",
        "  </thead>\n",
        "  <tbody>\n",
        "    <tr>\n",
        "      <th>0</th>\n",
        "      <td>1537</td>\n",
        "      <td>26924</td>\n",
        "      <td>asdfasdf</td>\n",
        "      <td>1302683619</td>\n",
        "      <td>1306686149</td>\n",
        "      <td>1306693349</td>\n",
        "      <td>smith</td>\n",
        "      <td>smith</td>\n",
        "    </tr>\n",
        "    <tr>\n",
        "      <th>1</th>\n",
        "      <td>1536</td>\n",
        "      <td>107</td>\n",
        "      <td>you're awake too?</td>\n",
        "      <td>1299756957</td>\n",
        "      <td>1299756957</td>\n",
        "      <td>0</td>\n",
        "      <td>smith</td>\n",
        "      <td>smith</td>\n",
        "    </tr>\n",
        "    <tr>\n",
        "      <th>2</th>\n",
        "      <td>1534</td>\n",
        "      <td>26920</td>\n",
        "      <td>Nope. I did deary. it was \"She doesn't even go...</td>\n",
        "      <td>1291255911</td>\n",
        "      <td>1291255911</td>\n",
        "      <td>0</td>\n",
        "      <td>smith</td>\n",
        "      <td>smith</td>\n",
        "    </tr>\n",
        "    <tr>\n",
        "      <th>3</th>\n",
        "      <td>1535</td>\n",
        "      <td>26920</td>\n",
        "      <td>You \"are\" a Moho? Is that how the cool kids sa...</td>\n",
        "      <td>1299719270</td>\n",
        "      <td>1299719270</td>\n",
        "      <td>0</td>\n",
        "      <td>smith</td>\n",
        "      <td>smith</td>\n",
        "    </tr>\n",
        "    <tr>\n",
        "      <th>4</th>\n",
        "      <td>1544</td>\n",
        "      <td>26921</td>\n",
        "      <td>Well done, you're a true Smithie. There are re...</td>\n",
        "      <td>1307470265</td>\n",
        "      <td>1307470265</td>\n",
        "      <td>0</td>\n",
        "      <td>smith</td>\n",
        "      <td>smith</td>\n",
        "    </tr>\n",
        "  </tbody>\n",
        "</table>\n",
        "</div>"
       ],
       "metadata": {},
       "output_type": "pyout",
       "prompt_number": 5,
       "text": [
        "     id  secret_id                                            comment  \\\n",
        "0  1537      26924                                           asdfasdf   \n",
        "1  1536        107                                  you're awake too?   \n",
        "2  1534      26920  Nope. I did deary. it was \"She doesn't even go...   \n",
        "3  1535      26920  You \"are\" a Moho? Is that how the cool kids sa...   \n",
        "4  1544      26921  Well done, you're a true Smithie. There are re...   \n",
        "\n",
        "   create_date  update_date   hide_date sender receiver  \n",
        "0   1302683619   1306686149  1306693349  smith    smith  \n",
        "1   1299756957   1299756957           0  smith    smith  \n",
        "2   1291255911   1291255911           0  smith    smith  \n",
        "3   1299719270   1299719270           0  smith    smith  \n",
        "4   1307470265   1307470265           0  smith    smith  "
       ]
      }
     ],
     "prompt_number": 5
    }
   ],
   "metadata": {}
  }
 ]
}